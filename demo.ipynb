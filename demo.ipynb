{
 "cells": [
  {
   "cell_type": "code",
   "execution_count": 1,
   "metadata": {},
   "outputs": [],
   "source": [
    "import requests\n",
    "import json\n",
    "\n",
    "# Define admin API URLs for Alice and Bob\n",
    "ALICE_ADMIN_URL = \"http://localhost:8001\"\n",
    "BOB_ADMIN_URL = \"http://localhost:8101\"\n",
    "\n",
    "def create_invitation(admin_url):\n",
    "    \"\"\"Create a new invitation.\"\"\"\n",
    "    response = requests.post(f\"{admin_url}/connections/create-invitation\")\n",
    "    return response.json()\n",
    "\n",
    "def receive_invitation(admin_url, invitation):\n",
    "    \"\"\"Receive an invitation.\"\"\"\n",
    "    response = requests.post(f\"{admin_url}/connections/receive-invitation\", json=invitation)\n",
    "    return response.json()\n",
    "\n",
    "def send_message(admin_url, connection_id, message):\n",
    "    \"\"\"Send a message to a connection.\"\"\"\n",
    "    response = requests.post(f\"{admin_url}/connections/{connection_id}/send-message\", json={\"content\": message})\n",
    "    return response.json()\n",
    "\n",
    "def get_messages(admin_url, connection_id):\n",
    "    \"\"\"Get all messages for a connection.\"\"\"\n",
    "    response = requests.get(f\"{admin_url}/connections/{connection_id}/messages\")\n",
    "    return response.json()\n",
    "\n",
    "def get_connection(admin_url, connection_id):\n",
    "    \"\"\"Get the connection details.\"\"\"\n",
    "    response = requests.get(f\"{admin_url}/connections/{connection_id}\")\n",
    "    return response.json()"
   ]
  },
  {
   "cell_type": "code",
   "execution_count": 2,
   "metadata": {},
   "outputs": [
    {
     "name": "stdout",
     "output_type": "stream",
     "text": [
      "Alice: Creating invitation...\n",
      "Alice's invitation: {\n",
      "  \"connection_id\": \"8ad0db5d-3225-40ba-83ce-0b5f737d5745\",\n",
      "  \"invitation\": {\n",
      "    \"@type\": \"did:sov:BzCbsNYhMrjHiqZDTUASHg;spec/connections/1.0/invitation\",\n",
      "    \"@id\": \"2af5c156-e0d1-4025-818c-6f022aa08bef\",\n",
      "    \"label\": \"Alice Agent\",\n",
      "    \"recipientKeys\": [\n",
      "      \"Hemm1chub3XqEivUxgRe95oS4h6gKfSAK66nBxnttzhn\"\n",
      "    ],\n",
      "    \"serviceEndpoint\": \"http://alice-agent:8000\"\n",
      "  },\n",
      "  \"invitation_url\": \"http://alice-agent:8000?c_i=eyJAdHlwZSI6ICJkaWQ6c292OkJ6Q2JzTlloTXJqSGlxWkRUVUFTSGc7c3BlYy9jb25uZWN0aW9ucy8xLjAvaW52aXRhdGlvbiIsICJAaWQiOiAiMmFmNWMxNTYtZTBkMS00MDI1LTgxOGMtNmYwMjJhYTA4YmVmIiwgImxhYmVsIjogIkFsaWNlIEFnZW50IiwgInJlY2lwaWVudEtleXMiOiBbIkhlbW0xY2h1YjNYcUVpdlV4Z1JlOTVvUzRoNmdLZlNBSzY2bkJ4bnR0emhuIl0sICJzZXJ2aWNlRW5kcG9pbnQiOiAiaHR0cDovL2FsaWNlLWFnZW50OjgwMDAifQ==\"\n",
      "}\n"
     ]
    }
   ],
   "source": [
    "# Step 1: Create an invitation from Alice\n",
    "print(\"Alice: Creating invitation...\")\n",
    "alice_invitation = create_invitation(ALICE_ADMIN_URL)\n",
    "print(\"Alice's invitation:\", json.dumps(alice_invitation, indent=2))"
   ]
  },
  {
   "cell_type": "code",
   "execution_count": 3,
   "metadata": {},
   "outputs": [
    {
     "name": "stdout",
     "output_type": "stream",
     "text": [
      "Bob: Receiving invitation...\n",
      "Bob's connection: {\n",
      "  \"my_did\": \"JguQ1K9ZDMv13VYzLdK7yS\",\n",
      "  \"routing_state\": \"none\",\n",
      "  \"invitation_msg_id\": \"2af5c156-e0d1-4025-818c-6f022aa08bef\",\n",
      "  \"created_at\": \"2024-05-27 09:40:56.173650Z\",\n",
      "  \"their_role\": \"inviter\",\n",
      "  \"invitation_mode\": \"once\",\n",
      "  \"connection_id\": \"4ba13378-6c43-4d22-a25d-2adfdd3d742b\",\n",
      "  \"state\": \"request\",\n",
      "  \"updated_at\": \"2024-05-27 09:40:56.177318Z\",\n",
      "  \"accept\": \"auto\",\n",
      "  \"invitation_key\": \"Hemm1chub3XqEivUxgRe95oS4h6gKfSAK66nBxnttzhn\",\n",
      "  \"rfc23_state\": \"request-sent\",\n",
      "  \"their_label\": \"Alice Agent\",\n",
      "  \"connection_protocol\": \"connections/1.0\",\n",
      "  \"request_id\": \"e480e158-a046-418a-aff0-41adbe602c74\"\n",
      "}\n"
     ]
    }
   ],
   "source": [
    "# Step 2: Bob receives Alice's invitation\n",
    "print(\"Bob: Receiving invitation...\")\n",
    "bob_connection = receive_invitation(BOB_ADMIN_URL, alice_invitation['invitation'])\n",
    "print(\"Bob's connection:\", json.dumps(bob_connection, indent=2))"
   ]
  },
  {
   "cell_type": "code",
   "execution_count": 4,
   "metadata": {},
   "outputs": [
    {
     "name": "stdout",
     "output_type": "stream",
     "text": [
      "Bob's connection status: \"request\"\n",
      "Alice's connection status: \"response\"\n"
     ]
    }
   ],
   "source": [
    "# Check the connection status\n",
    "bob_connection_id = bob_connection['connection_id']\n",
    "bob_connection = get_connection(BOB_ADMIN_URL, bob_connection_id)\n",
    "print(\"Bob's connection status:\", json.dumps(bob_connection[\"state\"], indent=2))\n",
    "\n",
    "alice_connection_id = alice_invitation['connection_id']\n",
    "alice_connection = get_connection(ALICE_ADMIN_URL, alice_connection_id)\n",
    "print(\"Alice's connection status:\", json.dumps(alice_connection[\"state\"], indent=2))"
   ]
  },
  {
   "cell_type": "code",
   "execution_count": 5,
   "metadata": {},
   "outputs": [
    {
     "name": "stdout",
     "output_type": "stream",
     "text": [
      "Bob: Sending message to Alice...\n",
      "Message response: {}\n"
     ]
    }
   ],
   "source": [
    "# Step 3: Bob sends a message to Alice\n",
    "print(\"Bob: Sending message to Alice...\")\n",
    "message_response = send_message(BOB_ADMIN_URL, bob_connection_id, \"Hello Alice, this is Bob!\")\n",
    "print(\"Message response:\", json.dumps(message_response, indent=2))"
   ]
  }
 ],
 "metadata": {
  "kernelspec": {
   "display_name": "didcomm-playground-YubQGKyV",
   "language": "python",
   "name": "python3"
  },
  "language_info": {
   "codemirror_mode": {
    "name": "ipython",
    "version": 3
   },
   "file_extension": ".py",
   "mimetype": "text/x-python",
   "name": "python",
   "nbconvert_exporter": "python",
   "pygments_lexer": "ipython3",
   "version": "3.8.5"
  }
 },
 "nbformat": 4,
 "nbformat_minor": 2
}
