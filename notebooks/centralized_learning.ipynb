{
 "cells": [
  {
   "cell_type": "markdown",
   "metadata": {},
   "source": [
    "# Centralized Learning\n",
    "\n",
    "As a benchmark, we train a simple `LogisticRegression` model on the Titanic dataset to compare its performance with our federated learning model."
   ]
  },
  {
   "cell_type": "code",
   "execution_count": 1,
   "metadata": {},
   "outputs": [],
   "source": [
    "import numpy as np\n",
    "import pandas as pd\n",
    "from sklearn.linear_model import LogisticRegression\n",
    "from sklearn.metrics import classification_report\n",
    "\n",
    "df_train = pd.read_csv(\"../data/titanic_train.csv\")\n",
    "df_test = pd.read_csv(\"../data/titanic_test.csv\")\n",
    "\n",
    "X_train, y_train = df_train.drop(\"Survived\", axis=1), df_train[\"Survived\"]\n",
    "X_test, y_test = df_test.drop(\"Survived\", axis=1), df_test[\"Survived\"]\n",
    "\n",
    "model = LogisticRegression(max_iter=1000)\n",
    "model.fit(X_train, y_train)\n",
    "\n",
    "y_pred = model.predict(X_test)\n",
    "\n",
    "report = classification_report(y_test, y_pred, output_dict=True)"
   ]
  },
  {
   "cell_type": "code",
   "execution_count": 2,
   "metadata": {},
   "outputs": [
    {
     "data": {
      "text/plain": [
       "{'0': {'precision': 0.8018018018018018,\n",
       "  'recall': 0.8476190476190476,\n",
       "  'f1-score': 0.8240740740740742,\n",
       "  'support': 105.0},\n",
       " '1': {'precision': 0.7647058823529411,\n",
       "  'recall': 0.7027027027027027,\n",
       "  'f1-score': 0.7323943661971832,\n",
       "  'support': 74.0},\n",
       " 'accuracy': 0.7877094972067039,\n",
       " 'macro avg': {'precision': 0.7832538420773715,\n",
       "  'recall': 0.7751608751608752,\n",
       "  'f1-score': 0.7782342201356287,\n",
       "  'support': 179.0},\n",
       " 'weighted avg': {'precision': 0.7864660585659601,\n",
       "  'recall': 0.7877094972067039,\n",
       "  'f1-score': 0.7861729657897729,\n",
       "  'support': 179.0}}"
      ]
     },
     "execution_count": 2,
     "metadata": {},
     "output_type": "execute_result"
    }
   ],
   "source": [
    "report"
   ]
  }
 ],
 "metadata": {
  "kernelspec": {
   "display_name": "didcomm-playground-YubQGKyV",
   "language": "python",
   "name": "python3"
  },
  "language_info": {
   "codemirror_mode": {
    "name": "ipython",
    "version": 3
   },
   "file_extension": ".py",
   "mimetype": "text/x-python",
   "name": "python",
   "nbconvert_exporter": "python",
   "pygments_lexer": "ipython3",
   "version": "3.8.5"
  }
 },
 "nbformat": 4,
 "nbformat_minor": 2
}
