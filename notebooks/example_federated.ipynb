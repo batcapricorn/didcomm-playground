{
 "cells": [
  {
   "cell_type": "code",
   "execution_count": 1,
   "metadata": {},
   "outputs": [],
   "source": [
    "import requests\n",
    "import json\n",
    "\n",
    "# Define admin API URLs for Alice and Bob\n",
    "CENTRAL_PARTY_ADMIN_URL = \"http://localhost:8001\"\n",
    "FL_CLIENT_ADMIN_URL = \"http://localhost:8101\"\n",
    "\n",
    "\n",
    "def create_invitation(admin_url):\n",
    "    \"\"\"Create a new invitation.\"\"\"\n",
    "    response = requests.post(f\"{admin_url}/connections/create-invitation\")\n",
    "    return response.json()\n",
    "\n",
    "\n",
    "def receive_invitation(admin_url, invitation):\n",
    "    \"\"\"Receive an invitation.\"\"\"\n",
    "    response = requests.post(\n",
    "        f\"{admin_url}/connections/receive-invitation\", json=invitation\n",
    "    )\n",
    "    return response.json()\n",
    "\n",
    "\n",
    "def send_message(admin_url, connection_id, message):\n",
    "    \"\"\"Send a message to a connection.\"\"\"\n",
    "    response = requests.post(\n",
    "        f\"{admin_url}/connections/{connection_id}/send-message\",\n",
    "        json={\"content\": message},\n",
    "    )\n",
    "    return response.json()\n",
    "\n",
    "\n",
    "def get_messages(admin_url, connection_id):\n",
    "    \"\"\"Get all messages for a connection.\"\"\"\n",
    "    response = requests.get(f\"{admin_url}/connections/{connection_id}/messages\")\n",
    "    return response.json()\n",
    "\n",
    "\n",
    "def get_connection(admin_url, connection_id):\n",
    "    \"\"\"Get the connection details.\"\"\"\n",
    "    response = requests.get(f\"{admin_url}/connections/{connection_id}\")\n",
    "    return response.json()"
   ]
  },
  {
   "cell_type": "code",
   "execution_count": 2,
   "metadata": {},
   "outputs": [
    {
     "name": "stdout",
     "output_type": "stream",
     "text": [
      "Central Party: Creating invitation...\n",
      "Central Party's invitation: {\n",
      "  \"connection_id\": \"54bc76d3-a9d3-48fa-839e-2c9b19e88d1d\",\n",
      "  \"invitation\": {\n",
      "    \"@type\": \"did:sov:BzCbsNYhMrjHiqZDTUASHg;spec/connections/1.0/invitation\",\n",
      "    \"@id\": \"8a84544d-b477-4acc-a66d-d27eb9bbcf9d\",\n",
      "    \"label\": \"Central Party Agent\",\n",
      "    \"recipientKeys\": [\n",
      "      \"5sZQwJKnH7q9eZdw6NqtePSjCjGgFASykFZg2at1ZxN3\"\n",
      "    ],\n",
      "    \"serviceEndpoint\": \"http://central-party-agent:8000\"\n",
      "  },\n",
      "  \"invitation_url\": \"http://central-party-agent:8000?c_i=eyJAdHlwZSI6ICJkaWQ6c292OkJ6Q2JzTlloTXJqSGlxWkRUVUFTSGc7c3BlYy9jb25uZWN0aW9ucy8xLjAvaW52aXRhdGlvbiIsICJAaWQiOiAiOGE4NDU0NGQtYjQ3Ny00YWNjLWE2NmQtZDI3ZWI5YmJjZjlkIiwgImxhYmVsIjogIkNlbnRyYWwgUGFydHkgQWdlbnQiLCAicmVjaXBpZW50S2V5cyI6IFsiNXNaUXdKS25IN3E5ZVpkdzZOcXRlUFNqQ2pHZ0ZBU3lrRlpnMmF0MVp4TjMiXSwgInNlcnZpY2VFbmRwb2ludCI6ICJodHRwOi8vY2VudHJhbC1wYXJ0eS1hZ2VudDo4MDAwIn0=\"\n",
      "}\n"
     ]
    }
   ],
   "source": [
    "print(\"Central Party: Creating invitation...\")\n",
    "central_party_invitation = create_invitation(CENTRAL_PARTY_ADMIN_URL)\n",
    "print(\"Central Party's invitation:\", json.dumps(central_party_invitation, indent=2))"
   ]
  },
  {
   "cell_type": "code",
   "execution_count": 3,
   "metadata": {},
   "outputs": [
    {
     "name": "stdout",
     "output_type": "stream",
     "text": [
      "FL Client: Receiving invitation...\n",
      "FL Client's connection: {\n",
      "  \"their_label\": \"Central Party Agent\",\n",
      "  \"accept\": \"auto\",\n",
      "  \"my_did\": \"DFGjBSy79tN9AS25Y6iir2\",\n",
      "  \"invitation_mode\": \"once\",\n",
      "  \"updated_at\": \"2024-07-06 07:57:45.568790Z\",\n",
      "  \"routing_state\": \"none\",\n",
      "  \"connection_id\": \"6566c00c-6b2e-4aad-a022-afb519c36795\",\n",
      "  \"their_role\": \"inviter\",\n",
      "  \"invitation_key\": \"5sZQwJKnH7q9eZdw6NqtePSjCjGgFASykFZg2at1ZxN3\",\n",
      "  \"invitation_msg_id\": \"8a84544d-b477-4acc-a66d-d27eb9bbcf9d\",\n",
      "  \"request_id\": \"1f223821-580a-4262-9c8e-1413746c1eb8\",\n",
      "  \"connection_protocol\": \"connections/1.0\",\n",
      "  \"rfc23_state\": \"request-sent\",\n",
      "  \"state\": \"request\",\n",
      "  \"created_at\": \"2024-07-06 07:57:45.566234Z\"\n",
      "}\n"
     ]
    }
   ],
   "source": [
    "print(\"FL Client: Receiving invitation...\")\n",
    "fl_client_connection = receive_invitation(\n",
    "    FL_CLIENT_ADMIN_URL, central_party_invitation[\"invitation\"]\n",
    ")\n",
    "print(\"FL Client's connection:\", json.dumps(fl_client_connection, indent=2))"
   ]
  },
  {
   "cell_type": "code",
   "execution_count": 4,
   "metadata": {},
   "outputs": [
    {
     "name": "stdout",
     "output_type": "stream",
     "text": [
      "FL Client's connection status: \"request\"\n",
      "Central Party's connection status: \"response\"\n"
     ]
    }
   ],
   "source": [
    "fl_client_connection_id = fl_client_connection[\"connection_id\"]\n",
    "fl_client_connection = get_connection(FL_CLIENT_ADMIN_URL, fl_client_connection_id)\n",
    "print(\n",
    "    \"FL Client's connection status:\",\n",
    "    json.dumps(fl_client_connection[\"state\"], indent=2),\n",
    ")\n",
    "\n",
    "central_party_connection_id = central_party_invitation[\"connection_id\"]\n",
    "central_party_connection = get_connection(\n",
    "    CENTRAL_PARTY_ADMIN_URL, central_party_connection_id\n",
    ")\n",
    "print(\n",
    "    \"Central Party's connection status:\",\n",
    "    json.dumps(central_party_connection[\"state\"], indent=2),\n",
    ")"
   ]
  },
  {
   "cell_type": "code",
   "execution_count": 5,
   "metadata": {},
   "outputs": [],
   "source": [
    "model_params = {\"coef\": None, \"intercept\": None}\n",
    "json_str = json.dumps(model_params)\n",
    "json_bytes = json_str.encode(\"utf-8\")\n",
    "hex_str = json_bytes.hex()"
   ]
  },
  {
   "cell_type": "code",
   "execution_count": 6,
   "metadata": {},
   "outputs": [
    {
     "name": "stdout",
     "output_type": "stream",
     "text": [
      "Initiate FL training run by sending initial weights to client.\n",
      "Message response: {}\n"
     ]
    }
   ],
   "source": [
    "print(\"Initiate FL training run by sending initial weights to client.\")\n",
    "message_response = send_message(\n",
    "    CENTRAL_PARTY_ADMIN_URL, central_party_connection_id, hex_str\n",
    ")\n",
    "print(\"Message response:\", json.dumps(message_response, indent=2))"
   ]
  }
 ],
 "metadata": {
  "kernelspec": {
   "display_name": "didcomm-playground-YubQGKyV",
   "language": "python",
   "name": "python3"
  },
  "language_info": {
   "codemirror_mode": {
    "name": "ipython",
    "version": 3
   },
   "file_extension": ".py",
   "mimetype": "text/x-python",
   "name": "python",
   "nbconvert_exporter": "python",
   "pygments_lexer": "ipython3",
   "version": "3.8.5"
  }
 },
 "nbformat": 4,
 "nbformat_minor": 2
}
