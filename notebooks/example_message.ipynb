{
 "cells": [
  {
   "cell_type": "markdown",
   "metadata": {},
   "source": [
    "# Example Connection and Message\n",
    "\n",
    "This notebook demonstrates initializing a `DIDComm` connection between a central party and a client in a federated learning environment. Once established, agents can exchange messages, which are logged in the docker containers."
   ]
  },
  {
   "cell_type": "code",
   "execution_count": 1,
   "metadata": {},
   "outputs": [],
   "source": [
    "import json\n",
    "import os\n",
    "import requests\n",
    "import sys\n",
    "\n",
    "sys.path.append(os.path.join(os.getcwd(), \"..\", \"src\", \"lib\"))\n",
    "from api import create_invitation, receive_invitation, send_message, get_connection\n",
    "\n",
    "# Define admin API URLs for Alice and Bob\n",
    "CENTRAL_PARTY_ADMIN_URL = \"http://localhost:8001\"\n",
    "FL_CLIENT_ADMIN_URL = \"http://localhost:8101\""
   ]
  },
  {
   "cell_type": "code",
   "execution_count": 2,
   "metadata": {},
   "outputs": [
    {
     "name": "stdout",
     "output_type": "stream",
     "text": [
      "Central Party: Creating invitation...\n",
      "Central Party's invitation: {\n",
      "  \"connection_id\": \"ef53e62f-213a-4f1b-8b61-c3fab41c9ea6\",\n",
      "  \"invitation\": {\n",
      "    \"@type\": \"did:sov:BzCbsNYhMrjHiqZDTUASHg;spec/connections/1.0/invitation\",\n",
      "    \"@id\": \"5ad115fc-be01-4a19-8116-2c89cf385b1e\",\n",
      "    \"serviceEndpoint\": \"http://central-party-agent:8000\",\n",
      "    \"label\": \"Central Party Agent\",\n",
      "    \"recipientKeys\": [\n",
      "      \"5vGzyR8hqP4gn59w9ee7ZJwkaUoM1zBKm1DoW555gyUH\"\n",
      "    ]\n",
      "  },\n",
      "  \"invitation_url\": \"http://central-party-agent:8000?c_i=eyJAdHlwZSI6ICJkaWQ6c292OkJ6Q2JzTlloTXJqSGlxWkRUVUFTSGc7c3BlYy9jb25uZWN0aW9ucy8xLjAvaW52aXRhdGlvbiIsICJAaWQiOiAiNWFkMTE1ZmMtYmUwMS00YTE5LTgxMTYtMmM4OWNmMzg1YjFlIiwgInNlcnZpY2VFbmRwb2ludCI6ICJodHRwOi8vY2VudHJhbC1wYXJ0eS1hZ2VudDo4MDAwIiwgImxhYmVsIjogIkNlbnRyYWwgUGFydHkgQWdlbnQiLCAicmVjaXBpZW50S2V5cyI6IFsiNXZHenlSOGhxUDRnbjU5dzllZTdaSndrYVVvTTF6QkttMURvVzU1NWd5VUgiXX0=\"\n",
      "}\n"
     ]
    }
   ],
   "source": [
    "# Step 1: Create an invitation from Central Party\n",
    "print(\"Central Party: Creating invitation...\")\n",
    "central_party_invitation = create_invitation(CENTRAL_PARTY_ADMIN_URL)\n",
    "print(\"Central Party's invitation:\", json.dumps(central_party_invitation, indent=2))"
   ]
  },
  {
   "cell_type": "code",
   "execution_count": 3,
   "metadata": {},
   "outputs": [
    {
     "name": "stdout",
     "output_type": "stream",
     "text": [
      "FL Client: Receiving invitation...\n",
      "FL Client's connection: {\n",
      "  \"connection_protocol\": \"connections/1.0\",\n",
      "  \"updated_at\": \"2024-07-07 03:15:35.358226Z\",\n",
      "  \"their_role\": \"inviter\",\n",
      "  \"my_did\": \"3cjhtLfbHDaA5BoNnzXTiV\",\n",
      "  \"state\": \"request\",\n",
      "  \"created_at\": \"2024-07-07 03:15:35.355453Z\",\n",
      "  \"accept\": \"auto\",\n",
      "  \"rfc23_state\": \"request-sent\",\n",
      "  \"invitation_msg_id\": \"5ad115fc-be01-4a19-8116-2c89cf385b1e\",\n",
      "  \"invitation_key\": \"5vGzyR8hqP4gn59w9ee7ZJwkaUoM1zBKm1DoW555gyUH\",\n",
      "  \"invitation_mode\": \"once\",\n",
      "  \"routing_state\": \"none\",\n",
      "  \"connection_id\": \"00cd202b-1317-46a2-b2f7-f0fadc90c207\",\n",
      "  \"their_label\": \"Central Party Agent\",\n",
      "  \"request_id\": \"bc0adaa8-f13e-40e2-8d7a-1e669efa5a9a\"\n",
      "}\n"
     ]
    }
   ],
   "source": [
    "# Step 2: FL Client receives Central Party's invitation\n",
    "print(\"FL Client: Receiving invitation...\")\n",
    "fl_client_connection = receive_invitation(\n",
    "    FL_CLIENT_ADMIN_URL, central_party_invitation[\"invitation\"]\n",
    ")\n",
    "print(\"FL Client's connection:\", json.dumps(fl_client_connection, indent=2))"
   ]
  },
  {
   "cell_type": "code",
   "execution_count": 4,
   "metadata": {},
   "outputs": [
    {
     "name": "stdout",
     "output_type": "stream",
     "text": [
      "FL Client's connection status: \"response\"\n",
      "Central Party's connection status: \"response\"\n"
     ]
    }
   ],
   "source": [
    "# Check the connection status\n",
    "fl_client_connection_id = fl_client_connection[\"connection_id\"]\n",
    "fl_client_connection = get_connection(FL_CLIENT_ADMIN_URL, fl_client_connection_id)\n",
    "print(\n",
    "    \"FL Client's connection status:\",\n",
    "    json.dumps(fl_client_connection[\"state\"], indent=2),\n",
    ")\n",
    "\n",
    "central_party_connection_id = central_party_invitation[\"connection_id\"]\n",
    "central_party_connection = get_connection(\n",
    "    CENTRAL_PARTY_ADMIN_URL, central_party_connection_id\n",
    ")\n",
    "print(\n",
    "    \"Central Party's connection status:\",\n",
    "    json.dumps(central_party_connection[\"state\"], indent=2),\n",
    ")"
   ]
  },
  {
   "cell_type": "code",
   "execution_count": 5,
   "metadata": {},
   "outputs": [
    {
     "name": "stdout",
     "output_type": "stream",
     "text": [
      "FL Client: Sending message to Central Party...\n",
      "Message response: {}\n"
     ]
    }
   ],
   "source": [
    "# Step 3: FL Client sends a message to Central Party\n",
    "print(\"FL Client: Sending message to Central Party...\")\n",
    "message_response = send_message(\n",
    "    FL_CLIENT_ADMIN_URL, fl_client_connection_id, \"Hello Alice, this is Bob!\"\n",
    ")\n",
    "print(\"Message response:\", json.dumps(message_response, indent=2))"
   ]
  },
  {
   "cell_type": "code",
   "execution_count": 6,
   "metadata": {},
   "outputs": [
    {
     "name": "stdout",
     "output_type": "stream",
     "text": [
      "Central Party: Sending message to FL Client...\n",
      "Message response: {}\n"
     ]
    }
   ],
   "source": [
    "# Step 4: Central Party sends a message to FL Client\n",
    "print(\"Central Party: Sending message to FL Client...\")\n",
    "message_response = send_message(\n",
    "    CENTRAL_PARTY_ADMIN_URL, central_party_connection_id, \"Test message\"\n",
    ")\n",
    "print(\"Message response:\", json.dumps(message_response, indent=2))"
   ]
  }
 ],
 "metadata": {
  "kernelspec": {
   "display_name": "didcomm-playground-YubQGKyV",
   "language": "python",
   "name": "python3"
  },
  "language_info": {
   "codemirror_mode": {
    "name": "ipython",
    "version": 3
   },
   "file_extension": ".py",
   "mimetype": "text/x-python",
   "name": "python",
   "nbconvert_exporter": "python",
   "pygments_lexer": "ipython3",
   "version": "3.8.5"
  }
 },
 "nbformat": 4,
 "nbformat_minor": 2
}
