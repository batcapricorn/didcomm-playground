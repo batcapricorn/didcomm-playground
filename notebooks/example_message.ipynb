{
 "cells": [
  {
   "cell_type": "code",
   "execution_count": 1,
   "metadata": {},
   "outputs": [],
   "source": [
    "import requests\n",
    "import json\n",
    "\n",
    "# Define admin API URLs for Alice and Bob\n",
    "CENTRAL_PARTY_ADMIN_URL = \"http://localhost:8001\"\n",
    "FL_CLIENT_ADMIN_URL = \"http://localhost:8101\"\n",
    "\n",
    "\n",
    "def create_invitation(admin_url):\n",
    "    \"\"\"Create a new invitation.\"\"\"\n",
    "    response = requests.post(f\"{admin_url}/connections/create-invitation\")\n",
    "    return response.json()\n",
    "\n",
    "\n",
    "def receive_invitation(admin_url, invitation):\n",
    "    \"\"\"Receive an invitation.\"\"\"\n",
    "    response = requests.post(\n",
    "        f\"{admin_url}/connections/receive-invitation\", json=invitation\n",
    "    )\n",
    "    return response.json()\n",
    "\n",
    "\n",
    "def send_message(admin_url, connection_id, message):\n",
    "    \"\"\"Send a message to a connection.\"\"\"\n",
    "    response = requests.post(\n",
    "        f\"{admin_url}/connections/{connection_id}/send-message\",\n",
    "        json={\"content\": message},\n",
    "    )\n",
    "    return response.json()\n",
    "\n",
    "\n",
    "def get_messages(admin_url, connection_id):\n",
    "    \"\"\"Get all messages for a connection.\"\"\"\n",
    "    response = requests.get(f\"{admin_url}/connections/{connection_id}/messages\")\n",
    "    return response.json()\n",
    "\n",
    "\n",
    "def get_connection(admin_url, connection_id):\n",
    "    \"\"\"Get the connection details.\"\"\"\n",
    "    response = requests.get(f\"{admin_url}/connections/{connection_id}\")\n",
    "    return response.json()"
   ]
  },
  {
   "cell_type": "code",
   "execution_count": 2,
   "metadata": {},
   "outputs": [
    {
     "name": "stdout",
     "output_type": "stream",
     "text": [
      "Central Party: Creating invitation...\n",
      "Central Party's invitation: {\n",
      "  \"connection_id\": \"ef42804a-5bb0-45b6-9d04-e9d3f2e76cff\",\n",
      "  \"invitation\": {\n",
      "    \"@type\": \"did:sov:BzCbsNYhMrjHiqZDTUASHg;spec/connections/1.0/invitation\",\n",
      "    \"@id\": \"caec5ea4-d8d7-40ac-850a-7c6ba9466735\",\n",
      "    \"label\": \"Central Party Agent\",\n",
      "    \"serviceEndpoint\": \"http://central-party-agent:8000\",\n",
      "    \"recipientKeys\": [\n",
      "      \"BcUaLSKKsVsYCsd4CNabu4aTvp5776ZJYpg4DG1ZnHE\"\n",
      "    ]\n",
      "  },\n",
      "  \"invitation_url\": \"http://central-party-agent:8000?c_i=eyJAdHlwZSI6ICJkaWQ6c292OkJ6Q2JzTlloTXJqSGlxWkRUVUFTSGc7c3BlYy9jb25uZWN0aW9ucy8xLjAvaW52aXRhdGlvbiIsICJAaWQiOiAiY2FlYzVlYTQtZDhkNy00MGFjLTg1MGEtN2M2YmE5NDY2NzM1IiwgImxhYmVsIjogIkNlbnRyYWwgUGFydHkgQWdlbnQiLCAic2VydmljZUVuZHBvaW50IjogImh0dHA6Ly9jZW50cmFsLXBhcnR5LWFnZW50OjgwMDAiLCAicmVjaXBpZW50S2V5cyI6IFsiQmNVYUxTS0tzVnNZQ3NkNENOYWJ1NGFUdnA1Nzc2WkpZcGc0REcxWm5IRSJdfQ==\"\n",
      "}\n"
     ]
    }
   ],
   "source": [
    "# Step 1: Create an invitation from Central Party\n",
    "print(\"Central Party: Creating invitation...\")\n",
    "central_party_invitation = create_invitation(CENTRAL_PARTY_ADMIN_URL)\n",
    "print(\"Central Party's invitation:\", json.dumps(central_party_invitation, indent=2))"
   ]
  },
  {
   "cell_type": "code",
   "execution_count": 3,
   "metadata": {},
   "outputs": [
    {
     "name": "stdout",
     "output_type": "stream",
     "text": [
      "FL Client: Receiving invitation...\n",
      "FL Client's connection: {\n",
      "  \"my_did\": \"ERPBrsjzB17jgnoAWVJzJR\",\n",
      "  \"connection_id\": \"d56aa5e5-f9c8-42b4-a078-d7deffeca316\",\n",
      "  \"invitation_msg_id\": \"caec5ea4-d8d7-40ac-850a-7c6ba9466735\",\n",
      "  \"invitation_mode\": \"once\",\n",
      "  \"updated_at\": \"2024-07-05 04:28:36.440894Z\",\n",
      "  \"their_label\": \"Central Party Agent\",\n",
      "  \"rfc23_state\": \"request-sent\",\n",
      "  \"request_id\": \"86f029e6-95bf-4766-a405-00a621ae44de\",\n",
      "  \"their_role\": \"inviter\",\n",
      "  \"routing_state\": \"none\",\n",
      "  \"invitation_key\": \"BcUaLSKKsVsYCsd4CNabu4aTvp5776ZJYpg4DG1ZnHE\",\n",
      "  \"accept\": \"auto\",\n",
      "  \"state\": \"request\",\n",
      "  \"connection_protocol\": \"connections/1.0\",\n",
      "  \"created_at\": \"2024-07-05 04:28:36.438508Z\"\n",
      "}\n"
     ]
    }
   ],
   "source": [
    "# Step 2: FL Client receives Central Party's invitation\n",
    "print(\"FL Client: Receiving invitation...\")\n",
    "fl_client_connection = receive_invitation(\n",
    "    FL_CLIENT_ADMIN_URL, central_party_invitation[\"invitation\"]\n",
    ")\n",
    "print(\"FL Client's connection:\", json.dumps(fl_client_connection, indent=2))"
   ]
  },
  {
   "cell_type": "code",
   "execution_count": 4,
   "metadata": {},
   "outputs": [
    {
     "name": "stdout",
     "output_type": "stream",
     "text": [
      "FL Client's connection status: \"request\"\n",
      "Central Party's connection status: \"response\"\n"
     ]
    }
   ],
   "source": [
    "# Check the connection status\n",
    "fl_client_connection_id = fl_client_connection[\"connection_id\"]\n",
    "fl_client_connection = get_connection(FL_CLIENT_ADMIN_URL, fl_client_connection_id)\n",
    "print(\n",
    "    \"FL Client's connection status:\",\n",
    "    json.dumps(fl_client_connection[\"state\"], indent=2),\n",
    ")\n",
    "\n",
    "central_party_connection_id = central_party_invitation[\"connection_id\"]\n",
    "central_party_connection = get_connection(\n",
    "    CENTRAL_PARTY_ADMIN_URL, central_party_connection_id\n",
    ")\n",
    "print(\n",
    "    \"Central Party's connection status:\",\n",
    "    json.dumps(central_party_connection[\"state\"], indent=2),\n",
    ")"
   ]
  },
  {
   "cell_type": "code",
   "execution_count": 5,
   "metadata": {},
   "outputs": [
    {
     "name": "stdout",
     "output_type": "stream",
     "text": [
      "FL Client: Sending message to Central Party...\n",
      "Message response: {}\n"
     ]
    }
   ],
   "source": [
    "# Step 3: FL Client sends a message to Central Party\n",
    "print(\"FL Client: Sending message to Central Party...\")\n",
    "message_response = send_message(\n",
    "    FL_CLIENT_ADMIN_URL, fl_client_connection_id, \"Hello Alice, this is Bob!\"\n",
    ")\n",
    "print(\"Message response:\", json.dumps(message_response, indent=2))"
   ]
  },
  {
   "cell_type": "code",
   "execution_count": 6,
   "metadata": {},
   "outputs": [
    {
     "name": "stdout",
     "output_type": "stream",
     "text": [
      "FL Client: Sending message to Central Party...\n",
      "Message response: {}\n"
     ]
    }
   ],
   "source": [
    "# Step 4: Central Party sends a message to FL Client\n",
    "print(\"FL Client: Sending message to Central Party...\")\n",
    "message_response = send_message(\n",
    "    CENTRAL_PARTY_ADMIN_URL, central_party_connection_id, \"Test message\"\n",
    ")\n",
    "print(\"Message response:\", json.dumps(message_response, indent=2))"
   ]
  }
 ],
 "metadata": {
  "kernelspec": {
   "display_name": "didcomm-playground-YubQGKyV",
   "language": "python",
   "name": "python3"
  },
  "language_info": {
   "codemirror_mode": {
    "name": "ipython",
    "version": 3
   },
   "file_extension": ".py",
   "mimetype": "text/x-python",
   "name": "python",
   "nbconvert_exporter": "python",
   "pygments_lexer": "ipython3",
   "version": "3.8.5"
  }
 },
 "nbformat": 4,
 "nbformat_minor": 2
}
