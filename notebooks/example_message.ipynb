{
 "cells": [
  {
   "cell_type": "code",
   "execution_count": 6,
   "metadata": {},
   "outputs": [],
   "source": [
    "import requests\n",
    "import json\n",
    "\n",
    "# Define admin API URLs for Alice and Bob\n",
    "CENTRAL_PARTY_ADMIN_URL = \"http://localhost:8001\"\n",
    "FL_CLIENT_ADMIN_URL = \"http://localhost:8101\"\n",
    "\n",
    "\n",
    "def create_invitation(admin_url):\n",
    "    \"\"\"Create a new invitation.\"\"\"\n",
    "    response = requests.post(f\"{admin_url}/connections/create-invitation\")\n",
    "    return response.json()\n",
    "\n",
    "\n",
    "def receive_invitation(admin_url, invitation):\n",
    "    \"\"\"Receive an invitation.\"\"\"\n",
    "    response = requests.post(\n",
    "        f\"{admin_url}/connections/receive-invitation\", json=invitation\n",
    "    )\n",
    "    return response.json()\n",
    "\n",
    "\n",
    "def send_message(admin_url, connection_id, message):\n",
    "    \"\"\"Send a message to a connection.\"\"\"\n",
    "    response = requests.post(\n",
    "        f\"{admin_url}/connections/{connection_id}/send-message\",\n",
    "        json={\"content\": message},\n",
    "    )\n",
    "    return response.json()\n",
    "\n",
    "\n",
    "def get_messages(admin_url, connection_id):\n",
    "    \"\"\"Get all messages for a connection.\"\"\"\n",
    "    response = requests.get(f\"{admin_url}/connections/{connection_id}/messages\")\n",
    "    return response.json()\n",
    "\n",
    "\n",
    "def get_connection(admin_url, connection_id):\n",
    "    \"\"\"Get the connection details.\"\"\"\n",
    "    response = requests.get(f\"{admin_url}/connections/{connection_id}\")\n",
    "    return response.json()"
   ]
  },
  {
   "cell_type": "code",
   "execution_count": 7,
   "metadata": {},
   "outputs": [
    {
     "name": "stdout",
     "output_type": "stream",
     "text": [
      "Central Party: Creating invitation...\n",
      "Central Party's invitation: {\n",
      "  \"connection_id\": \"dfb2803d-4198-40ef-a526-a23f516c6445\",\n",
      "  \"invitation\": {\n",
      "    \"@type\": \"did:sov:BzCbsNYhMrjHiqZDTUASHg;spec/connections/1.0/invitation\",\n",
      "    \"@id\": \"a9c95165-5319-46be-9315-ca5d817429fe\",\n",
      "    \"label\": \"Central Party Agent\",\n",
      "    \"recipientKeys\": [\n",
      "      \"2H8FJK6u6Rw5pt8ne39T1bEzLF6ewJkCd6KcXNhD5MSV\"\n",
      "    ],\n",
      "    \"serviceEndpoint\": \"http://central-party-agent:8000\"\n",
      "  },\n",
      "  \"invitation_url\": \"http://central-party-agent:8000?c_i=eyJAdHlwZSI6ICJkaWQ6c292OkJ6Q2JzTlloTXJqSGlxWkRUVUFTSGc7c3BlYy9jb25uZWN0aW9ucy8xLjAvaW52aXRhdGlvbiIsICJAaWQiOiAiYTljOTUxNjUtNTMxOS00NmJlLTkzMTUtY2E1ZDgxNzQyOWZlIiwgImxhYmVsIjogIkNlbnRyYWwgUGFydHkgQWdlbnQiLCAicmVjaXBpZW50S2V5cyI6IFsiMkg4RkpLNnU2Unc1cHQ4bmUzOVQxYkV6TEY2ZXdKa0NkNktjWE5oRDVNU1YiXSwgInNlcnZpY2VFbmRwb2ludCI6ICJodHRwOi8vY2VudHJhbC1wYXJ0eS1hZ2VudDo4MDAwIn0=\"\n",
      "}\n"
     ]
    }
   ],
   "source": [
    "# Step 1: Create an invitation from Central Party\n",
    "print(\"Central Party: Creating invitation...\")\n",
    "central_party_invitation = create_invitation(CENTRAL_PARTY_ADMIN_URL)\n",
    "print(\"Central Party's invitation:\", json.dumps(central_party_invitation, indent=2))"
   ]
  },
  {
   "cell_type": "code",
   "execution_count": 8,
   "metadata": {},
   "outputs": [
    {
     "name": "stdout",
     "output_type": "stream",
     "text": [
      "FL Client: Receiving invitation...\n",
      "FL Client's connection: {\n",
      "  \"invitation_mode\": \"once\",\n",
      "  \"rfc23_state\": \"request-sent\",\n",
      "  \"their_role\": \"inviter\",\n",
      "  \"accept\": \"auto\",\n",
      "  \"created_at\": \"2024-07-04 09:18:16.660081Z\",\n",
      "  \"connection_protocol\": \"connections/1.0\",\n",
      "  \"state\": \"request\",\n",
      "  \"routing_state\": \"none\",\n",
      "  \"my_did\": \"LH1WW8E5tMhem3ncZFjrpH\",\n",
      "  \"invitation_msg_id\": \"a9c95165-5319-46be-9315-ca5d817429fe\",\n",
      "  \"connection_id\": \"7978c2e9-f571-4103-91e9-2ea96e07f0c5\",\n",
      "  \"invitation_key\": \"2H8FJK6u6Rw5pt8ne39T1bEzLF6ewJkCd6KcXNhD5MSV\",\n",
      "  \"updated_at\": \"2024-07-04 09:18:16.662127Z\",\n",
      "  \"their_label\": \"Central Party Agent\",\n",
      "  \"request_id\": \"e9a53bdb-13d8-45ea-a66d-29930eaa8931\"\n",
      "}\n"
     ]
    }
   ],
   "source": [
    "# Step 2: FL Client receives Central Party's invitation\n",
    "print(\"FL Client: Receiving invitation...\")\n",
    "fl_client_connection = receive_invitation(\n",
    "    FL_CLIENT_ADMIN_URL, central_party_invitation[\"invitation\"]\n",
    ")\n",
    "print(\"FL Client's connection:\", json.dumps(fl_client_connection, indent=2))"
   ]
  },
  {
   "cell_type": "code",
   "execution_count": 9,
   "metadata": {},
   "outputs": [
    {
     "name": "stdout",
     "output_type": "stream",
     "text": [
      "FL Client's connection status: \"request\"\n",
      "Central Party's connection status: \"response\"\n"
     ]
    }
   ],
   "source": [
    "# Check the connection status\n",
    "fl_client_connection_id = fl_client_connection[\"connection_id\"]\n",
    "fl_client_connection = get_connection(FL_CLIENT_ADMIN_URL, fl_client_connection_id)\n",
    "print(\n",
    "    \"FL Client's connection status:\",\n",
    "    json.dumps(fl_client_connection[\"state\"], indent=2),\n",
    ")\n",
    "\n",
    "central_party_connection_id = central_party_invitation[\"connection_id\"]\n",
    "central_party_connection = get_connection(\n",
    "    CENTRAL_PARTY_ADMIN_URL, central_party_connection_id\n",
    ")\n",
    "print(\n",
    "    \"Central Party's connection status:\",\n",
    "    json.dumps(central_party_connection[\"state\"], indent=2),\n",
    ")"
   ]
  },
  {
   "cell_type": "code",
   "execution_count": 10,
   "metadata": {},
   "outputs": [
    {
     "name": "stdout",
     "output_type": "stream",
     "text": [
      "FL Client: Sending message to Central Party...\n",
      "Message response: {}\n"
     ]
    }
   ],
   "source": [
    "# Step 3: Bob sends a message to Alice\n",
    "print(\"FL Client: Sending message to Central Party...\")\n",
    "message_response = send_message(\n",
    "    FL_CLIENT_ADMIN_URL, fl_client_connection_id, \"Hello Alice, this is Bob!\"\n",
    ")\n",
    "print(\"Message response:\", json.dumps(message_response, indent=2))"
   ]
  }
 ],
 "metadata": {
  "kernelspec": {
   "display_name": "didcomm-playground-YubQGKyV",
   "language": "python",
   "name": "python3"
  },
  "language_info": {
   "codemirror_mode": {
    "name": "ipython",
    "version": 3
   },
   "file_extension": ".py",
   "mimetype": "text/x-python",
   "name": "python",
   "nbconvert_exporter": "python",
   "pygments_lexer": "ipython3",
   "version": "3.8.5"
  }
 },
 "nbformat": 4,
 "nbformat_minor": 2
}
